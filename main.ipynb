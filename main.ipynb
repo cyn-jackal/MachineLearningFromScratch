{
 "cells": [
  {
   "cell_type": "code",
   "execution_count": 1,
   "metadata": {},
   "outputs": [],
   "source": [
    "from torchvision import datasets\n",
    "from torchvision.transforms import ToTensor"
   ]
  },
  {
   "cell_type": "code",
   "execution_count": 2,
   "metadata": {},
   "outputs": [
    {
     "name": "stdout",
     "output_type": "stream",
     "text": [
      "2.6.0+cu118\n"
     ]
    }
   ],
   "source": [
    "import torch\n",
    "print(torch.__version__)\n"
   ]
  },
  {
   "cell_type": "code",
   "execution_count": 3,
   "metadata": {},
   "outputs": [],
   "source": [
    "train_data = datasets.MNIST(\n",
    "    root = 'data',\n",
    "    train = True,\n",
    "    transform = ToTensor(),\n",
    "    download = True\n",
    ")\n",
    "\n",
    "test_data = datasets.MNIST(\n",
    "    root = 'data',\n",
    "    train = False,\n",
    "    transform = ToTensor(),\n",
    "    download = True\n",
    ")"
   ]
  },
  {
   "cell_type": "code",
   "execution_count": 4,
   "metadata": {},
   "outputs": [
    {
     "data": {
      "text/plain": [
       "Dataset MNIST\n",
       "    Number of datapoints: 60000\n",
       "    Root location: data\n",
       "    Split: Train\n",
       "    StandardTransform\n",
       "Transform: ToTensor()"
      ]
     },
     "execution_count": 4,
     "metadata": {},
     "output_type": "execute_result"
    }
   ],
   "source": [
    "train_data"
   ]
  },
  {
   "cell_type": "code",
   "execution_count": 5,
   "metadata": {},
   "outputs": [
    {
     "data": {
      "text/plain": [
       "Dataset MNIST\n",
       "    Number of datapoints: 10000\n",
       "    Root location: data\n",
       "    Split: Test\n",
       "    StandardTransform\n",
       "Transform: ToTensor()"
      ]
     },
     "execution_count": 5,
     "metadata": {},
     "output_type": "execute_result"
    }
   ],
   "source": [
    "test_data"
   ]
  },
  {
   "cell_type": "code",
   "execution_count": 6,
   "metadata": {},
   "outputs": [
    {
     "data": {
      "text/plain": [
       "torch.Size([60000, 28, 28])"
      ]
     },
     "execution_count": 6,
     "metadata": {},
     "output_type": "execute_result"
    }
   ],
   "source": [
    "train_data.data.shape\n"
   ]
  },
  {
   "cell_type": "code",
   "execution_count": 7,
   "metadata": {},
   "outputs": [
    {
     "data": {
      "text/plain": [
       "torch.Size([60000, 28, 28])"
      ]
     },
     "execution_count": 7,
     "metadata": {},
     "output_type": "execute_result"
    }
   ],
   "source": [
    "train_data.data.size()"
   ]
  },
  {
   "cell_type": "code",
   "execution_count": 8,
   "metadata": {},
   "outputs": [
    {
     "data": {
      "text/plain": [
       "torch.Size([10000, 28, 28])"
      ]
     },
     "execution_count": 8,
     "metadata": {},
     "output_type": "execute_result"
    }
   ],
   "source": [
    "test_data.data.shape"
   ]
  },
  {
   "cell_type": "code",
   "execution_count": 9,
   "metadata": {},
   "outputs": [
    {
     "data": {
      "text/plain": [
       "torch.Size([60000])"
      ]
     },
     "execution_count": 9,
     "metadata": {},
     "output_type": "execute_result"
    }
   ],
   "source": [
    "train_data.targets.size()"
   ]
  },
  {
   "cell_type": "code",
   "execution_count": 10,
   "metadata": {},
   "outputs": [],
   "source": [
    "from torch.utils.data import DataLoader\n",
    "\n",
    "loader = {\n",
    "    \"train\": DataLoader(train_data, batch_size=100, shuffle=True, num_workers=1),\n",
    "    \"test\": DataLoader(test_data, batch_size=100, shuffle=True, num_workers=1),\n",
    "}"
   ]
  },
  {
   "cell_type": "code",
   "execution_count": 11,
   "metadata": {},
   "outputs": [
    {
     "data": {
      "text/plain": [
       "{'train': <torch.utils.data.dataloader.DataLoader at 0x1f50f58e460>,\n",
       " 'test': <torch.utils.data.dataloader.DataLoader at 0x1f50f58e430>}"
      ]
     },
     "execution_count": 11,
     "metadata": {},
     "output_type": "execute_result"
    }
   ],
   "source": [
    "loader"
   ]
  },
  {
   "cell_type": "code",
   "execution_count": 12,
   "metadata": {},
   "outputs": [],
   "source": [
    "import torch.nn as nn\n",
    "import torch.nn.functional as F\n",
    "import torch.optim as optim\n",
    "\n",
    "\n",
    "class CNN(nn.Module):\n",
    "\n",
    "    def __init__(self):\n",
    "        super(CNN, self).__init__()\n",
    "\n",
    "        self.conv1 = nn.Conv2d(1, 10, kernel_size=5)\n",
    "        self.conv2 = nn.Conv2d(10, 20, kernel_size=5)\n",
    "        self.conv2_drop = nn.Dropout2d()\n",
    "        self.fc1 = nn.Linear(320, 50)\n",
    "        self.fc2 = nn.Linear(50, 10)\n",
    "\n",
    "    def forward(self, x):\n",
    "        x = F.relu(F.max_pool2d(self.conv1(x), 2))\n",
    "        x = F.relu(F.max_pool2d(self.conv2_drop(self.conv2(x)), 2))\n",
    "        x = x.view(-1, 320)\n",
    "        x = F.relu(self.fc1(x))\n",
    "        x = F.dropout(x,training=self.training)\n",
    "        x = self.fc2(x)\n",
    "\n",
    "        return F.softmax(x)"
   ]
  },
  {
   "cell_type": "code",
   "execution_count": 13,
   "metadata": {},
   "outputs": [
    {
     "name": "stdout",
     "output_type": "stream",
     "text": [
      "Mon Mar 31 17:36:31 2025       \n",
      "+-----------------------------------------------------------------------------------------+\n",
      "| NVIDIA-SMI 572.42                 Driver Version: 572.42         CUDA Version: 12.8     |\n",
      "|-----------------------------------------+------------------------+----------------------+\n",
      "| GPU  Name                  Driver-Model | Bus-Id          Disp.A | Volatile Uncorr. ECC |\n",
      "| Fan  Temp   Perf          Pwr:Usage/Cap |           Memory-Usage | GPU-Util  Compute M. |\n",
      "|                                         |                        |               MIG M. |\n",
      "|=========================================+========================+======================|\n",
      "|   0  NVIDIA GeForce GTX 1050 Ti   WDDM  |   00000000:01:00.0 Off |                  N/A |\n",
      "| N/A   52C    P8             N/A / 5001W |      79MiB /   4096MiB |      0%      Default |\n",
      "|                                         |                        |                  N/A |\n",
      "+-----------------------------------------+------------------------+----------------------+\n",
      "                                                                                         \n",
      "+-----------------------------------------------------------------------------------------+\n",
      "| Processes:                                                                              |\n",
      "|  GPU   GI   CI              PID   Type   Process name                        GPU Memory |\n",
      "|        ID   ID                                                               Usage      |\n",
      "|=========================================================================================|\n",
      "|    0   N/A  N/A           15256    C+G   ...Browser\\Application\\brave.exe      N/A      |\n",
      "|    0   N/A  N/A           18036    C+G   ...Browser\\Application\\brave.exe      N/A      |\n",
      "|    0   N/A  N/A           18232      C   ...al\\Programs\\Ollama\\ollama.exe      N/A      |\n",
      "+-----------------------------------------------------------------------------------------+\n"
     ]
    }
   ],
   "source": [
    "!nvidia-smi"
   ]
  },
  {
   "cell_type": "code",
   "execution_count": 14,
   "metadata": {},
   "outputs": [
    {
     "name": "stdout",
     "output_type": "stream",
     "text": [
      "Device : cuda\n",
      "11.8\n"
     ]
    }
   ],
   "source": [
    "import torch \n",
    "\n",
    "device = torch.device('cuda' if torch.cuda.is_available() else 'cpu')\n",
    "print(f'Device : {\"cuda\" if torch.cuda.is_available() else \"cpu\"}')\n",
    "print(torch.version.cuda)\n",
    "\n"
   ]
  },
  {
   "cell_type": "code",
   "execution_count": 15,
   "metadata": {},
   "outputs": [],
   "source": [
    "model = CNN().to(device)\n",
    "\n",
    "optimizer = optim.Adam(model.parameters(), lr=0.001)\n",
    "\n",
    "loss_fn = nn.CrossEntropyLoss()\n",
    "\n",
    "def train(epoch):\n",
    "    model.train()\n",
    "    for batch_idx, (data, target) in enumerate(loader[\"train\"]):\n",
    "        data, target = data.to(device), target.to(device)\n",
    "        optimizer.zero_grad()\n",
    "        output = model(data)\n",
    "        loss = loss_fn(output, target)\n",
    "        loss.backward()\n",
    "        optimizer.step()\n",
    "        if batch_idx % 20 == 0:\n",
    "            print(f'Train Epoch: {epoch} [{batch_idx * len(data)}/{len(loader[\"train\"].dataset)} ({100. * batch_idx / len(loader[\"train\"]):.0f}%)]\\t{loss.item():.6f}')\n",
    "\n",
    "\n",
    "def test():\n",
    "    model.eval()\n",
    "\n",
    "    test_loss = 0\n",
    "    correct = 0\n",
    "\n",
    "    with torch.no_grad():\n",
    "        for data, target in loader[\"test\"]:\n",
    "            data, target = data.to(device), target.to(device)\n",
    "            output = model(data)\n",
    "            test_loss += loss_fn(output, target).item()\n",
    "            pred = output.argmax(dim=1, keepdim=True)\n",
    "            correct += pred.eq(target.view_as(pred)).sum().item()\n",
    "\n",
    "    test_loss /= len(loader[\"test\"].dataset)\n",
    "    print(f'\\nTest set: Average loss: {test_loss:.4f}, Accuracy {correct}/{len(loader[\"test\"].dataset)} ({100. * correct / len(loader[\"test\"].dataset):.0f}%\\n)')\n",
    "    \n"
   ]
  },
  {
   "cell_type": "code",
   "execution_count": 16,
   "metadata": {},
   "outputs": [
    {
     "name": "stderr",
     "output_type": "stream",
     "text": [
      "C:\\Users\\User\\AppData\\Local\\Temp\\ipykernel_9576\\612138161.py:25: UserWarning: Implicit dimension choice for softmax has been deprecated. Change the call to include dim=X as an argument.\n",
      "  return F.softmax(x)\n"
     ]
    },
    {
     "name": "stdout",
     "output_type": "stream",
     "text": [
      "Train Epoch: 1 [0/60000 (0%)]\t2.302514\n",
      "Train Epoch: 1 [2000/60000 (3%)]\t2.290524\n",
      "Train Epoch: 1 [4000/60000 (7%)]\t2.215751\n",
      "Train Epoch: 1 [6000/60000 (10%)]\t1.965009\n",
      "Train Epoch: 1 [8000/60000 (13%)]\t1.956557\n",
      "Train Epoch: 1 [10000/60000 (17%)]\t1.813505\n",
      "Train Epoch: 1 [12000/60000 (20%)]\t1.822594\n",
      "Train Epoch: 1 [14000/60000 (23%)]\t1.841042\n",
      "Train Epoch: 1 [16000/60000 (27%)]\t1.820467\n",
      "Train Epoch: 1 [18000/60000 (30%)]\t1.692114\n",
      "Train Epoch: 1 [20000/60000 (33%)]\t1.786022\n",
      "Train Epoch: 1 [22000/60000 (37%)]\t1.688364\n",
      "Train Epoch: 1 [24000/60000 (40%)]\t1.695471\n",
      "Train Epoch: 1 [26000/60000 (43%)]\t1.673591\n",
      "Train Epoch: 1 [28000/60000 (47%)]\t1.691071\n",
      "Train Epoch: 1 [30000/60000 (50%)]\t1.683257\n",
      "Train Epoch: 1 [32000/60000 (53%)]\t1.666900\n",
      "Train Epoch: 1 [34000/60000 (57%)]\t1.603463\n",
      "Train Epoch: 1 [36000/60000 (60%)]\t1.630058\n",
      "Train Epoch: 1 [38000/60000 (63%)]\t1.612074\n",
      "Train Epoch: 1 [40000/60000 (67%)]\t1.595773\n",
      "Train Epoch: 1 [42000/60000 (70%)]\t1.662495\n",
      "Train Epoch: 1 [44000/60000 (73%)]\t1.693128\n",
      "Train Epoch: 1 [46000/60000 (77%)]\t1.577130\n",
      "Train Epoch: 1 [48000/60000 (80%)]\t1.634478\n",
      "Train Epoch: 1 [50000/60000 (83%)]\t1.659947\n",
      "Train Epoch: 1 [52000/60000 (87%)]\t1.670047\n",
      "Train Epoch: 1 [54000/60000 (90%)]\t1.577366\n",
      "Train Epoch: 1 [56000/60000 (93%)]\t1.598752\n",
      "Train Epoch: 1 [58000/60000 (97%)]\t1.679490\n",
      "\n",
      "Test set: Average loss: 0.0153, Accuracy 9329/10000 (93%\n",
      ")\n",
      "Train Epoch: 2 [0/60000 (0%)]\t1.555440\n",
      "Train Epoch: 2 [2000/60000 (3%)]\t1.598178\n",
      "Train Epoch: 2 [4000/60000 (7%)]\t1.591037\n",
      "Train Epoch: 2 [6000/60000 (10%)]\t1.663053\n",
      "Train Epoch: 2 [8000/60000 (13%)]\t1.629836\n",
      "Train Epoch: 2 [10000/60000 (17%)]\t1.588145\n",
      "Train Epoch: 2 [12000/60000 (20%)]\t1.627955\n",
      "Train Epoch: 2 [14000/60000 (23%)]\t1.629146\n",
      "Train Epoch: 2 [16000/60000 (27%)]\t1.620614\n",
      "Train Epoch: 2 [18000/60000 (30%)]\t1.536743\n",
      "Train Epoch: 2 [20000/60000 (33%)]\t1.635398\n",
      "Train Epoch: 2 [22000/60000 (37%)]\t1.588872\n",
      "Train Epoch: 2 [24000/60000 (40%)]\t1.628259\n",
      "Train Epoch: 2 [26000/60000 (43%)]\t1.567482\n",
      "Train Epoch: 2 [28000/60000 (47%)]\t1.653188\n",
      "Train Epoch: 2 [30000/60000 (50%)]\t1.579617\n",
      "Train Epoch: 2 [32000/60000 (53%)]\t1.569759\n",
      "Train Epoch: 2 [34000/60000 (57%)]\t1.609403\n",
      "Train Epoch: 2 [36000/60000 (60%)]\t1.562028\n",
      "Train Epoch: 2 [38000/60000 (63%)]\t1.578032\n",
      "Train Epoch: 2 [40000/60000 (67%)]\t1.548890\n",
      "Train Epoch: 2 [42000/60000 (70%)]\t1.580983\n",
      "Train Epoch: 2 [44000/60000 (73%)]\t1.628687\n",
      "Train Epoch: 2 [46000/60000 (77%)]\t1.616179\n",
      "Train Epoch: 2 [48000/60000 (80%)]\t1.560898\n",
      "Train Epoch: 2 [50000/60000 (83%)]\t1.617047\n",
      "Train Epoch: 2 [52000/60000 (87%)]\t1.566140\n",
      "Train Epoch: 2 [54000/60000 (90%)]\t1.540144\n",
      "Train Epoch: 2 [56000/60000 (93%)]\t1.541609\n",
      "Train Epoch: 2 [58000/60000 (97%)]\t1.575969\n",
      "\n",
      "Test set: Average loss: 0.0151, Accuracy 9497/10000 (95%\n",
      ")\n",
      "Train Epoch: 3 [0/60000 (0%)]\t1.602234\n",
      "Train Epoch: 3 [2000/60000 (3%)]\t1.599862\n",
      "Train Epoch: 3 [4000/60000 (7%)]\t1.606380\n",
      "Train Epoch: 3 [6000/60000 (10%)]\t1.530447\n",
      "Train Epoch: 3 [8000/60000 (13%)]\t1.547820\n",
      "Train Epoch: 3 [10000/60000 (17%)]\t1.559888\n",
      "Train Epoch: 3 [12000/60000 (20%)]\t1.571084\n",
      "Train Epoch: 3 [14000/60000 (23%)]\t1.538825\n",
      "Train Epoch: 3 [16000/60000 (27%)]\t1.539326\n",
      "Train Epoch: 3 [18000/60000 (30%)]\t1.509206\n",
      "Train Epoch: 3 [20000/60000 (33%)]\t1.531224\n",
      "Train Epoch: 3 [22000/60000 (37%)]\t1.547992\n",
      "Train Epoch: 3 [24000/60000 (40%)]\t1.529901\n",
      "Train Epoch: 3 [26000/60000 (43%)]\t1.518394\n",
      "Train Epoch: 3 [28000/60000 (47%)]\t1.541309\n",
      "Train Epoch: 3 [30000/60000 (50%)]\t1.547186\n",
      "Train Epoch: 3 [32000/60000 (53%)]\t1.512150\n",
      "Train Epoch: 3 [34000/60000 (57%)]\t1.588545\n",
      "Train Epoch: 3 [36000/60000 (60%)]\t1.553356\n",
      "Train Epoch: 3 [38000/60000 (63%)]\t1.543157\n",
      "Train Epoch: 3 [40000/60000 (67%)]\t1.592867\n",
      "Train Epoch: 3 [42000/60000 (70%)]\t1.531516\n",
      "Train Epoch: 3 [44000/60000 (73%)]\t1.511162\n",
      "Train Epoch: 3 [46000/60000 (77%)]\t1.495879\n",
      "Train Epoch: 3 [48000/60000 (80%)]\t1.558048\n",
      "Train Epoch: 3 [50000/60000 (83%)]\t1.631170\n",
      "Train Epoch: 3 [52000/60000 (87%)]\t1.542075\n",
      "Train Epoch: 3 [54000/60000 (90%)]\t1.543336\n",
      "Train Epoch: 3 [56000/60000 (93%)]\t1.542877\n",
      "Train Epoch: 3 [58000/60000 (97%)]\t1.577701\n",
      "\n",
      "Test set: Average loss: 0.0151, Accuracy 9558/10000 (96%\n",
      ")\n",
      "Train Epoch: 4 [0/60000 (0%)]\t1.576840\n",
      "Train Epoch: 4 [2000/60000 (3%)]\t1.561383\n",
      "Train Epoch: 4 [4000/60000 (7%)]\t1.546950\n",
      "Train Epoch: 4 [6000/60000 (10%)]\t1.550210\n",
      "Train Epoch: 4 [8000/60000 (13%)]\t1.638658\n",
      "Train Epoch: 4 [10000/60000 (17%)]\t1.546467\n",
      "Train Epoch: 4 [12000/60000 (20%)]\t1.532925\n",
      "Train Epoch: 4 [14000/60000 (23%)]\t1.561437\n",
      "Train Epoch: 4 [16000/60000 (27%)]\t1.617043\n",
      "Train Epoch: 4 [18000/60000 (30%)]\t1.535852\n",
      "Train Epoch: 4 [20000/60000 (33%)]\t1.537199\n",
      "Train Epoch: 4 [22000/60000 (37%)]\t1.520765\n",
      "Train Epoch: 4 [24000/60000 (40%)]\t1.583112\n",
      "Train Epoch: 4 [26000/60000 (43%)]\t1.577774\n",
      "Train Epoch: 4 [28000/60000 (47%)]\t1.536386\n",
      "Train Epoch: 4 [30000/60000 (50%)]\t1.584262\n",
      "Train Epoch: 4 [32000/60000 (53%)]\t1.545921\n",
      "Train Epoch: 4 [34000/60000 (57%)]\t1.558107\n",
      "Train Epoch: 4 [36000/60000 (60%)]\t1.532978\n",
      "Train Epoch: 4 [38000/60000 (63%)]\t1.542912\n",
      "Train Epoch: 4 [40000/60000 (67%)]\t1.564818\n",
      "Train Epoch: 4 [42000/60000 (70%)]\t1.564004\n",
      "Train Epoch: 4 [44000/60000 (73%)]\t1.573034\n",
      "Train Epoch: 4 [46000/60000 (77%)]\t1.552596\n",
      "Train Epoch: 4 [48000/60000 (80%)]\t1.543090\n",
      "Train Epoch: 4 [50000/60000 (83%)]\t1.527426\n",
      "Train Epoch: 4 [52000/60000 (87%)]\t1.543332\n",
      "Train Epoch: 4 [54000/60000 (90%)]\t1.586721\n",
      "Train Epoch: 4 [56000/60000 (93%)]\t1.574348\n",
      "Train Epoch: 4 [58000/60000 (97%)]\t1.556120\n",
      "\n",
      "Test set: Average loss: 0.0150, Accuracy 9614/10000 (96%\n",
      ")\n",
      "Train Epoch: 5 [0/60000 (0%)]\t1.579452\n",
      "Train Epoch: 5 [2000/60000 (3%)]\t1.547470\n",
      "Train Epoch: 5 [4000/60000 (7%)]\t1.545998\n",
      "Train Epoch: 5 [6000/60000 (10%)]\t1.561383\n",
      "Train Epoch: 5 [8000/60000 (13%)]\t1.515502\n",
      "Train Epoch: 5 [10000/60000 (17%)]\t1.552745\n",
      "Train Epoch: 5 [12000/60000 (20%)]\t1.524168\n",
      "Train Epoch: 5 [14000/60000 (23%)]\t1.511165\n",
      "Train Epoch: 5 [16000/60000 (27%)]\t1.545343\n",
      "Train Epoch: 5 [18000/60000 (30%)]\t1.559942\n",
      "Train Epoch: 5 [20000/60000 (33%)]\t1.489189\n",
      "Train Epoch: 5 [22000/60000 (37%)]\t1.584437\n",
      "Train Epoch: 5 [24000/60000 (40%)]\t1.583709\n",
      "Train Epoch: 5 [26000/60000 (43%)]\t1.523723\n",
      "Train Epoch: 5 [28000/60000 (47%)]\t1.539817\n",
      "Train Epoch: 5 [30000/60000 (50%)]\t1.528438\n",
      "Train Epoch: 5 [32000/60000 (53%)]\t1.522708\n",
      "Train Epoch: 5 [34000/60000 (57%)]\t1.518300\n",
      "Train Epoch: 5 [36000/60000 (60%)]\t1.612328\n",
      "Train Epoch: 5 [38000/60000 (63%)]\t1.569368\n",
      "Train Epoch: 5 [40000/60000 (67%)]\t1.545079\n",
      "Train Epoch: 5 [42000/60000 (70%)]\t1.518915\n",
      "Train Epoch: 5 [44000/60000 (73%)]\t1.544213\n",
      "Train Epoch: 5 [46000/60000 (77%)]\t1.541030\n",
      "Train Epoch: 5 [48000/60000 (80%)]\t1.551433\n",
      "Train Epoch: 5 [50000/60000 (83%)]\t1.535335\n",
      "Train Epoch: 5 [52000/60000 (87%)]\t1.518632\n",
      "Train Epoch: 5 [54000/60000 (90%)]\t1.593698\n",
      "Train Epoch: 5 [56000/60000 (93%)]\t1.554888\n",
      "Train Epoch: 5 [58000/60000 (97%)]\t1.544331\n",
      "\n",
      "Test set: Average loss: 0.0150, Accuracy 9656/10000 (97%\n",
      ")\n",
      "Train Epoch: 6 [0/60000 (0%)]\t1.566206\n",
      "Train Epoch: 6 [2000/60000 (3%)]\t1.568491\n",
      "Train Epoch: 6 [4000/60000 (7%)]\t1.513739\n",
      "Train Epoch: 6 [6000/60000 (10%)]\t1.532975\n",
      "Train Epoch: 6 [8000/60000 (13%)]\t1.516440\n",
      "Train Epoch: 6 [10000/60000 (17%)]\t1.608672\n",
      "Train Epoch: 6 [12000/60000 (20%)]\t1.520317\n",
      "Train Epoch: 6 [14000/60000 (23%)]\t1.522962\n",
      "Train Epoch: 6 [16000/60000 (27%)]\t1.552445\n",
      "Train Epoch: 6 [18000/60000 (30%)]\t1.577208\n",
      "Train Epoch: 6 [20000/60000 (33%)]\t1.535544\n",
      "Train Epoch: 6 [22000/60000 (37%)]\t1.509365\n",
      "Train Epoch: 6 [24000/60000 (40%)]\t1.512901\n",
      "Train Epoch: 6 [26000/60000 (43%)]\t1.532434\n",
      "Train Epoch: 6 [28000/60000 (47%)]\t1.517289\n",
      "Train Epoch: 6 [30000/60000 (50%)]\t1.517374\n",
      "Train Epoch: 6 [32000/60000 (53%)]\t1.561668\n",
      "Train Epoch: 6 [34000/60000 (57%)]\t1.531660\n",
      "Train Epoch: 6 [36000/60000 (60%)]\t1.552225\n",
      "Train Epoch: 6 [38000/60000 (63%)]\t1.552505\n",
      "Train Epoch: 6 [40000/60000 (67%)]\t1.554505\n",
      "Train Epoch: 6 [42000/60000 (70%)]\t1.542507\n",
      "Train Epoch: 6 [44000/60000 (73%)]\t1.546630\n",
      "Train Epoch: 6 [46000/60000 (77%)]\t1.552760\n",
      "Train Epoch: 6 [48000/60000 (80%)]\t1.517413\n",
      "Train Epoch: 6 [50000/60000 (83%)]\t1.510394\n",
      "Train Epoch: 6 [52000/60000 (87%)]\t1.564476\n",
      "Train Epoch: 6 [54000/60000 (90%)]\t1.521581\n",
      "Train Epoch: 6 [56000/60000 (93%)]\t1.555939\n",
      "Train Epoch: 6 [58000/60000 (97%)]\t1.549417\n",
      "\n",
      "Test set: Average loss: 0.0149, Accuracy 9682/10000 (97%\n",
      ")\n",
      "Train Epoch: 7 [0/60000 (0%)]\t1.559663\n",
      "Train Epoch: 7 [2000/60000 (3%)]\t1.533365\n",
      "Train Epoch: 7 [4000/60000 (7%)]\t1.514133\n",
      "Train Epoch: 7 [6000/60000 (10%)]\t1.579829\n",
      "Train Epoch: 7 [8000/60000 (13%)]\t1.532162\n",
      "Train Epoch: 7 [10000/60000 (17%)]\t1.516722\n",
      "Train Epoch: 7 [12000/60000 (20%)]\t1.566133\n",
      "Train Epoch: 7 [14000/60000 (23%)]\t1.519501\n",
      "Train Epoch: 7 [16000/60000 (27%)]\t1.554364\n",
      "Train Epoch: 7 [18000/60000 (30%)]\t1.542518\n",
      "Train Epoch: 7 [20000/60000 (33%)]\t1.544212\n",
      "Train Epoch: 7 [22000/60000 (37%)]\t1.508210\n",
      "Train Epoch: 7 [24000/60000 (40%)]\t1.543837\n",
      "Train Epoch: 7 [26000/60000 (43%)]\t1.514706\n",
      "Train Epoch: 7 [28000/60000 (47%)]\t1.503570\n",
      "Train Epoch: 7 [30000/60000 (50%)]\t1.538725\n",
      "Train Epoch: 7 [32000/60000 (53%)]\t1.511322\n",
      "Train Epoch: 7 [34000/60000 (57%)]\t1.523831\n",
      "Train Epoch: 7 [36000/60000 (60%)]\t1.506470\n",
      "Train Epoch: 7 [38000/60000 (63%)]\t1.502793\n",
      "Train Epoch: 7 [40000/60000 (67%)]\t1.529649\n",
      "Train Epoch: 7 [42000/60000 (70%)]\t1.504316\n",
      "Train Epoch: 7 [44000/60000 (73%)]\t1.566727\n",
      "Train Epoch: 7 [46000/60000 (77%)]\t1.539756\n",
      "Train Epoch: 7 [48000/60000 (80%)]\t1.536806\n",
      "Train Epoch: 7 [50000/60000 (83%)]\t1.516109\n",
      "Train Epoch: 7 [52000/60000 (87%)]\t1.487893\n",
      "Train Epoch: 7 [54000/60000 (90%)]\t1.521358\n",
      "Train Epoch: 7 [56000/60000 (93%)]\t1.553506\n",
      "Train Epoch: 7 [58000/60000 (97%)]\t1.545014\n",
      "\n",
      "Test set: Average loss: 0.0149, Accuracy 9672/10000 (97%\n",
      ")\n",
      "Train Epoch: 8 [0/60000 (0%)]\t1.575365\n",
      "Train Epoch: 8 [2000/60000 (3%)]\t1.539626\n",
      "Train Epoch: 8 [4000/60000 (7%)]\t1.522754\n",
      "Train Epoch: 8 [6000/60000 (10%)]\t1.526168\n",
      "Train Epoch: 8 [8000/60000 (13%)]\t1.506280\n",
      "Train Epoch: 8 [10000/60000 (17%)]\t1.550438\n",
      "Train Epoch: 8 [12000/60000 (20%)]\t1.519356\n",
      "Train Epoch: 8 [14000/60000 (23%)]\t1.575748\n",
      "Train Epoch: 8 [16000/60000 (27%)]\t1.528305\n",
      "Train Epoch: 8 [18000/60000 (30%)]\t1.518338\n",
      "Train Epoch: 8 [20000/60000 (33%)]\t1.495706\n",
      "Train Epoch: 8 [22000/60000 (37%)]\t1.558565\n",
      "Train Epoch: 8 [24000/60000 (40%)]\t1.482485\n",
      "Train Epoch: 8 [26000/60000 (43%)]\t1.566760\n",
      "Train Epoch: 8 [28000/60000 (47%)]\t1.551855\n",
      "Train Epoch: 8 [30000/60000 (50%)]\t1.511628\n",
      "Train Epoch: 8 [32000/60000 (53%)]\t1.567282\n",
      "Train Epoch: 8 [34000/60000 (57%)]\t1.500475\n",
      "Train Epoch: 8 [36000/60000 (60%)]\t1.543183\n",
      "Train Epoch: 8 [38000/60000 (63%)]\t1.530111\n",
      "Train Epoch: 8 [40000/60000 (67%)]\t1.544909\n",
      "Train Epoch: 8 [42000/60000 (70%)]\t1.536120\n",
      "Train Epoch: 8 [44000/60000 (73%)]\t1.542787\n",
      "Train Epoch: 8 [46000/60000 (77%)]\t1.551133\n",
      "Train Epoch: 8 [48000/60000 (80%)]\t1.521284\n",
      "Train Epoch: 8 [50000/60000 (83%)]\t1.525151\n",
      "Train Epoch: 8 [52000/60000 (87%)]\t1.512543\n",
      "Train Epoch: 8 [54000/60000 (90%)]\t1.540711\n",
      "Train Epoch: 8 [56000/60000 (93%)]\t1.500536\n",
      "Train Epoch: 8 [58000/60000 (97%)]\t1.501397\n",
      "\n",
      "Test set: Average loss: 0.0149, Accuracy 9703/10000 (97%\n",
      ")\n",
      "Train Epoch: 9 [0/60000 (0%)]\t1.540902\n",
      "Train Epoch: 9 [2000/60000 (3%)]\t1.521979\n",
      "Train Epoch: 9 [4000/60000 (7%)]\t1.536048\n",
      "Train Epoch: 9 [6000/60000 (10%)]\t1.537028\n",
      "Train Epoch: 9 [8000/60000 (13%)]\t1.510024\n",
      "Train Epoch: 9 [10000/60000 (17%)]\t1.511593\n",
      "Train Epoch: 9 [12000/60000 (20%)]\t1.510765\n",
      "Train Epoch: 9 [14000/60000 (23%)]\t1.537114\n",
      "Train Epoch: 9 [16000/60000 (27%)]\t1.547052\n",
      "Train Epoch: 9 [18000/60000 (30%)]\t1.522888\n",
      "Train Epoch: 9 [20000/60000 (33%)]\t1.533498\n",
      "Train Epoch: 9 [22000/60000 (37%)]\t1.536243\n",
      "Train Epoch: 9 [24000/60000 (40%)]\t1.544750\n",
      "Train Epoch: 9 [26000/60000 (43%)]\t1.503917\n",
      "Train Epoch: 9 [28000/60000 (47%)]\t1.492859\n",
      "Train Epoch: 9 [30000/60000 (50%)]\t1.516208\n",
      "Train Epoch: 9 [32000/60000 (53%)]\t1.519264\n",
      "Train Epoch: 9 [34000/60000 (57%)]\t1.542819\n",
      "Train Epoch: 9 [36000/60000 (60%)]\t1.528458\n",
      "Train Epoch: 9 [38000/60000 (63%)]\t1.541660\n",
      "Train Epoch: 9 [40000/60000 (67%)]\t1.516836\n",
      "Train Epoch: 9 [42000/60000 (70%)]\t1.537243\n",
      "Train Epoch: 9 [44000/60000 (73%)]\t1.528580\n",
      "Train Epoch: 9 [46000/60000 (77%)]\t1.509286\n",
      "Train Epoch: 9 [48000/60000 (80%)]\t1.501787\n",
      "Train Epoch: 9 [50000/60000 (83%)]\t1.511835\n",
      "Train Epoch: 9 [52000/60000 (87%)]\t1.483846\n",
      "Train Epoch: 9 [54000/60000 (90%)]\t1.498124\n",
      "Train Epoch: 9 [56000/60000 (93%)]\t1.499482\n",
      "Train Epoch: 9 [58000/60000 (97%)]\t1.549159\n",
      "\n",
      "Test set: Average loss: 0.0149, Accuracy 9714/10000 (97%\n",
      ")\n",
      "Train Epoch: 10 [0/60000 (0%)]\t1.539982\n",
      "Train Epoch: 10 [2000/60000 (3%)]\t1.507209\n",
      "Train Epoch: 10 [4000/60000 (7%)]\t1.536267\n",
      "Train Epoch: 10 [6000/60000 (10%)]\t1.531301\n",
      "Train Epoch: 10 [8000/60000 (13%)]\t1.490421\n",
      "Train Epoch: 10 [10000/60000 (17%)]\t1.528207\n",
      "Train Epoch: 10 [12000/60000 (20%)]\t1.569771\n",
      "Train Epoch: 10 [14000/60000 (23%)]\t1.531449\n",
      "Train Epoch: 10 [16000/60000 (27%)]\t1.547112\n",
      "Train Epoch: 10 [18000/60000 (30%)]\t1.565546\n",
      "Train Epoch: 10 [20000/60000 (33%)]\t1.539910\n",
      "Train Epoch: 10 [22000/60000 (37%)]\t1.549392\n",
      "Train Epoch: 10 [24000/60000 (40%)]\t1.528022\n",
      "Train Epoch: 10 [26000/60000 (43%)]\t1.523771\n",
      "Train Epoch: 10 [28000/60000 (47%)]\t1.544959\n",
      "Train Epoch: 10 [30000/60000 (50%)]\t1.508718\n",
      "Train Epoch: 10 [32000/60000 (53%)]\t1.555208\n",
      "Train Epoch: 10 [34000/60000 (57%)]\t1.522430\n",
      "Train Epoch: 10 [36000/60000 (60%)]\t1.575462\n",
      "Train Epoch: 10 [38000/60000 (63%)]\t1.555424\n",
      "Train Epoch: 10 [40000/60000 (67%)]\t1.554900\n",
      "Train Epoch: 10 [42000/60000 (70%)]\t1.513599\n",
      "Train Epoch: 10 [44000/60000 (73%)]\t1.510314\n",
      "Train Epoch: 10 [46000/60000 (77%)]\t1.509334\n",
      "Train Epoch: 10 [48000/60000 (80%)]\t1.501338\n",
      "Train Epoch: 10 [50000/60000 (83%)]\t1.533286\n",
      "Train Epoch: 10 [52000/60000 (87%)]\t1.540518\n",
      "Train Epoch: 10 [54000/60000 (90%)]\t1.559061\n",
      "Train Epoch: 10 [56000/60000 (93%)]\t1.515591\n",
      "Train Epoch: 10 [58000/60000 (97%)]\t1.524332\n",
      "\n",
      "Test set: Average loss: 0.0149, Accuracy 9734/10000 (97%\n",
      ")\n"
     ]
    }
   ],
   "source": [
    "# range(1,11) is 10 epoch\n",
    "for epoch in range(1, 11):\n",
    "    train(epoch)\n",
    "    test()"
   ]
  },
  {
   "cell_type": "code",
   "execution_count": 17,
   "metadata": {},
   "outputs": [
    {
     "data": {
      "text/plain": [
       "device(type='cuda')"
      ]
     },
     "execution_count": 17,
     "metadata": {},
     "output_type": "execute_result"
    }
   ],
   "source": [
    "device"
   ]
  },
  {
   "cell_type": "code",
   "execution_count": 21,
   "metadata": {},
   "outputs": [
    {
     "name": "stderr",
     "output_type": "stream",
     "text": [
      "C:\\Users\\User\\AppData\\Local\\Temp\\ipykernel_9576\\612138161.py:25: UserWarning: Implicit dimension choice for softmax has been deprecated. Change the call to include dim=X as an argument.\n",
      "  return F.softmax(x)\n"
     ]
    },
    {
     "name": "stdout",
     "output_type": "stream",
     "text": [
      "Prediction: 7\n"
     ]
    },
    {
     "data": {
      "image/png": "[encoded data removed]",
      "text/plain": [
       "<Figure size 640x480 with 1 Axes>"
      ]
     },
     "metadata": {},
     "output_type": "display_data"
    }
   ],
   "source": [
    "import matplotlib.pyplot as plt\n",
    "\n",
    "model.eval()\n",
    "\n",
    "data, target = test_data[0]\n",
    "\n",
    "data = data.unsqueeze(0).to(device)\n",
    "\n",
    "output = model(data)\n",
    "\n",
    "prediction = output.argmax(dim=1, keepdim=True).item()\n",
    "\n",
    "print(f'Prediction: {prediction}')\n",
    "\n",
    "image = data.squeeze(0).squeeze(0).cpu().numpy()\n",
    "\n",
    "plt.imshow(image, cmap='gray')\n",
    "plt.show()\n"
   ]
  }
 ],
 "metadata": {
  "kernelspec": {
   "display_name": "mnist",
   "language": "python",
   "name": "python3"
  },
  "language_info": {
   "codemirror_mode": {
    "name": "ipython",
    "version": 3
   },
   "file_extension": ".py",
   "mimetype": "text/x-python",
   "name": "python",
   "nbconvert_exporter": "python",
   "pygments_lexer": "ipython3",
   "version": "3.9.21"
  }
 },
 "nbformat": 4,
 "nbformat_minor": 2
}
