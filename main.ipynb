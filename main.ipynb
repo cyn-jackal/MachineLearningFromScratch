{
 "cells": [
  {
   "cell_type": "code",
   "execution_count": 1,
   "metadata": {},
   "outputs": [],
   "source": [
    "from torchvision import datasets\n",
    "from torchvision.transforms import ToTensor"
   ]
  },
  {
   "cell_type": "code",
   "execution_count": 2,
   "metadata": {},
   "outputs": [
    {
     "name": "stdout",
     "output_type": "stream",
     "text": [
      "2.6.0+cu118\n"
     ]
    }
   ],
   "source": [
    "import torch\n",
    "print(torch.__version__)\n"
   ]
  },
  {
   "cell_type": "code",
   "execution_count": 3,
   "metadata": {},
   "outputs": [],
   "source": [
    "train_data = datasets.MNIST(\n",
    "    root = 'data',\n",
    "    train = True,\n",
    "    transform = ToTensor(),\n",
    "    download = True\n",
    ")\n",
    "\n",
    "test_data = datasets.MNIST(\n",
    "    root = 'data',\n",
    "    train = False,\n",
    "    transform = ToTensor(),\n",
    "    download = True\n",
    ")"
   ]
  },
  {
   "cell_type": "code",
   "execution_count": 4,
   "metadata": {},
   "outputs": [
    {
     "data": {
      "text/plain": [
       "Dataset MNIST\n",
       "    Number of datapoints: 60000\n",
       "    Root location: data\n",
       "    Split: Train\n",
       "    StandardTransform\n",
       "Transform: ToTensor()"
      ]
     },
     "execution_count": 4,
     "metadata": {},
     "output_type": "execute_result"
    }
   ],
   "source": [
    "train_data"
   ]
  },
  {
   "cell_type": "code",
   "execution_count": 5,
   "metadata": {},
   "outputs": [
    {
     "data": {
      "text/plain": [
       "Dataset MNIST\n",
       "    Number of datapoints: 10000\n",
       "    Root location: data\n",
       "    Split: Test\n",
       "    StandardTransform\n",
       "Transform: ToTensor()"
      ]
     },
     "execution_count": 5,
     "metadata": {},
     "output_type": "execute_result"
    }
   ],
   "source": [
    "test_data"
   ]
  },
  {
   "cell_type": "code",
   "execution_count": 6,
   "metadata": {},
   "outputs": [
    {
     "data": {
      "text/plain": [
       "torch.Size([60000, 28, 28])"
      ]
     },
     "execution_count": 6,
     "metadata": {},
     "output_type": "execute_result"
    }
   ],
   "source": [
    "train_data.data.shape\n"
   ]
  },
  {
   "cell_type": "code",
   "execution_count": 7,
   "metadata": {},
   "outputs": [
    {
     "data": {
      "text/plain": [
       "torch.Size([60000, 28, 28])"
      ]
     },
     "execution_count": 7,
     "metadata": {},
     "output_type": "execute_result"
    }
   ],
   "source": [
    "train_data.data.size()"
   ]
  },
  {
   "cell_type": "code",
   "execution_count": 8,
   "metadata": {},
   "outputs": [
    {
     "data": {
      "text/plain": [
       "torch.Size([10000, 28, 28])"
      ]
     },
     "execution_count": 8,
     "metadata": {},
     "output_type": "execute_result"
    }
   ],
   "source": [
    "test_data.data.shape"
   ]
  },
  {
   "cell_type": "code",
   "execution_count": 9,
   "metadata": {},
   "outputs": [
    {
     "data": {
      "text/plain": [
       "torch.Size([60000])"
      ]
     },
     "execution_count": 9,
     "metadata": {},
     "output_type": "execute_result"
    }
   ],
   "source": [
    "train_data.targets.size()"
   ]
  },
  {
   "cell_type": "code",
   "execution_count": 10,
   "metadata": {},
   "outputs": [],
   "source": [
    "from torch.utils.data import DataLoader\n",
    "\n",
    "loader = {\n",
    "    \"train\": DataLoader(train_data, batch_size=100, shuffle=True, num_workers=1),\n",
    "    \"test\": DataLoader(test_data, batch_size=100, shuffle=True, num_workers=1),\n",
    "}"
   ]
  },
  {
   "cell_type": "code",
   "execution_count": 11,
   "metadata": {},
   "outputs": [
    {
     "data": {
      "text/plain": [
       "{'train': <torch.utils.data.dataloader.DataLoader at 0x1d5e0bbfac0>,\n",
       " 'test': <torch.utils.data.dataloader.DataLoader at 0x1d5e0bbf130>}"
      ]
     },
     "execution_count": 11,
     "metadata": {},
     "output_type": "execute_result"
    }
   ],
   "source": [
    "loader"
   ]
  },
  {
   "cell_type": "code",
   "execution_count": 12,
   "metadata": {},
   "outputs": [],
   "source": [
    "import torch.nn as nn\n",
    "import torch.nn.functional as F\n",
    "import torch.optim as optim\n",
    "\n",
    "\n",
    "class CNN(nn.Module):\n",
    "\n",
    "    def __init__(self):\n",
    "        super(CNN, self).__init__()\n",
    "\n",
    "        self.conv1 = nn.Conv2d(1, 10, kernel_size=5)\n",
    "        self.conv2 = nn.Conv2d(10, 20, kernel_size=5)\n",
    "        self.conv2_drop = nn.Dropout2d()\n",
    "        self.fc1 = nn.Linear(320, 50)\n",
    "        self.fc2 = nn.Linear(50, 10)\n",
    "\n",
    "    def forward(self, x):\n",
    "        x = F.relu(F.max_pool2d(self.conv1(x), 2))\n",
    "        x = F.relu(F.max_pool2d(self.conv2_drop(self.conv2(x)), 2))\n",
    "        x = x.view(-1, 320)\n",
    "        x = F.relu(self.fc1(x))\n",
    "        x = F.dropout(x,training=self.training)\n",
    "        x = self.fc2(x)\n",
    "\n",
    "        return F.softmax(x)"
   ]
  },
  {
   "cell_type": "code",
   "execution_count": 13,
   "metadata": {},
   "outputs": [
    {
     "name": "stdout",
     "output_type": "stream",
     "text": [
      "Tue Apr  1 06:33:29 2025       \n",
      "+-----------------------------------------------------------------------------------------+\n",
      "| NVIDIA-SMI 572.42                 Driver Version: 572.42         CUDA Version: 12.8     |\n",
      "|-----------------------------------------+------------------------+----------------------+\n",
      "| GPU  Name                  Driver-Model | Bus-Id          Disp.A | Volatile Uncorr. ECC |\n",
      "| Fan  Temp   Perf          Pwr:Usage/Cap |           Memory-Usage | GPU-Util  Compute M. |\n",
      "|                                         |                        |               MIG M. |\n",
      "|=========================================+========================+======================|\n",
      "|   0  NVIDIA GeForce GTX 1050 Ti   WDDM  |   00000000:01:00.0 Off |                  N/A |\n",
      "| N/A   56C    P8             N/A / 5001W |      83MiB /   4096MiB |      0%      Default |\n",
      "|                                         |                        |                  N/A |\n",
      "+-----------------------------------------+------------------------+----------------------+\n",
      "                                                                                         \n",
      "+-----------------------------------------------------------------------------------------+\n",
      "| Processes:                                                                              |\n",
      "|  GPU   GI   CI              PID   Type   Process name                        GPU Memory |\n",
      "|        ID   ID                                                               Usage      |\n",
      "|=========================================================================================|\n",
      "|    0   N/A  N/A            8040      C   ...al\\Programs\\Ollama\\ollama.exe      N/A      |\n",
      "|    0   N/A  N/A           11528    C+G   ...Browser\\Application\\brave.exe      N/A      |\n",
      "|    0   N/A  N/A           15752    C+G   ...Browser\\Application\\brave.exe      N/A      |\n",
      "+-----------------------------------------------------------------------------------------+\n"
     ]
    }
   ],
   "source": [
    "!nvidia-smi"
   ]
  },
  {
   "cell_type": "code",
   "execution_count": 14,
   "metadata": {},
   "outputs": [
    {
     "name": "stdout",
     "output_type": "stream",
     "text": [
      "Device : cuda\n",
      "11.8\n"
     ]
    }
   ],
   "source": [
    "import torch \n",
    "\n",
    "device = torch.device('cuda' if torch.cuda.is_available() else 'cpu')\n",
    "print(f'Device : {\"cuda\" if torch.cuda.is_available() else \"cpu\"}')\n",
    "print(torch.version.cuda)\n",
    "\n"
   ]
  },
  {
   "cell_type": "code",
   "execution_count": 15,
   "metadata": {},
   "outputs": [],
   "source": [
    "model = CNN().to(device)\n",
    "\n",
    "optimizer = optim.Adam(model.parameters(), lr=0.001)\n",
    "\n",
    "loss_fn = nn.CrossEntropyLoss()\n",
    "\n",
    "def train(epoch):\n",
    "    model.train()\n",
    "    for batch_idx, (data, target) in enumerate(loader[\"train\"]):\n",
    "        data, target = data.to(device), target.to(device)\n",
    "        optimizer.zero_grad()\n",
    "        output = model(data)\n",
    "        loss = loss_fn(output, target)\n",
    "        loss.backward()\n",
    "        optimizer.step()\n",
    "        if batch_idx % 20 == 0:\n",
    "            print(f'Train Epoch: {epoch} [{batch_idx * len(data)}/{len(loader[\"train\"].dataset)} ({100. * batch_idx / len(loader[\"train\"]):.0f}%)]\\t{loss.item():.6f}')\n",
    "\n",
    "\n",
    "def test():\n",
    "    model.eval()\n",
    "\n",
    "    test_loss = 0\n",
    "    correct = 0\n",
    "\n",
    "    with torch.no_grad():\n",
    "        for data, target in loader[\"test\"]:\n",
    "            data, target = data.to(device), target.to(device)\n",
    "            output = model(data)\n",
    "            test_loss += loss_fn(output, target).item()\n",
    "            pred = output.argmax(dim=1, keepdim=True)\n",
    "            correct += pred.eq(target.view_as(pred)).sum().item()\n",
    "\n",
    "    test_loss /= len(loader[\"test\"].dataset)\n",
    "    print(f'\\nTest set: Average loss: {test_loss:.4f}, Accuracy {correct}/{len(loader[\"test\"].dataset)} ({100. * correct / len(loader[\"test\"].dataset):.0f}%\\n)')\n",
    "    \n"
   ]
  },
  {
   "cell_type": "code",
   "execution_count": 16,
   "metadata": {},
   "outputs": [
    {
     "name": "stderr",
     "output_type": "stream",
     "text": [
      "C:\\Users\\User\\AppData\\Local\\Temp\\ipykernel_11704\\612138161.py:25: UserWarning: Implicit dimension choice for softmax has been deprecated. Change the call to include dim=X as an argument.\n",
      "  return F.softmax(x)\n"
     ]
    },
    {
     "name": "stdout",
     "output_type": "stream",
     "text": [
      "Train Epoch: 1 [0/60000 (0%)]\t2.302411\n",
      "Train Epoch: 1 [2000/60000 (3%)]\t2.293796\n",
      "Train Epoch: 1 [4000/60000 (7%)]\t2.195053\n",
      "Train Epoch: 1 [6000/60000 (10%)]\t2.117052\n",
      "Train Epoch: 1 [8000/60000 (13%)]\t2.025982\n",
      "Train Epoch: 1 [10000/60000 (17%)]\t1.834883\n",
      "Train Epoch: 1 [12000/60000 (20%)]\t1.886041\n",
      "Train Epoch: 1 [14000/60000 (23%)]\t1.766058\n",
      "Train Epoch: 1 [16000/60000 (27%)]\t1.791096\n",
      "Train Epoch: 1 [18000/60000 (30%)]\t1.741538\n",
      "Train Epoch: 1 [20000/60000 (33%)]\t1.715910\n",
      "Train Epoch: 1 [22000/60000 (37%)]\t1.724396\n",
      "Train Epoch: 1 [24000/60000 (40%)]\t1.739340\n",
      "Train Epoch: 1 [26000/60000 (43%)]\t1.703743\n",
      "Train Epoch: 1 [28000/60000 (47%)]\t1.683152\n",
      "Train Epoch: 1 [30000/60000 (50%)]\t1.637026\n",
      "Train Epoch: 1 [32000/60000 (53%)]\t1.638917\n",
      "Train Epoch: 1 [34000/60000 (57%)]\t1.626191\n",
      "Train Epoch: 1 [36000/60000 (60%)]\t1.657503\n",
      "Train Epoch: 1 [38000/60000 (63%)]\t1.630386\n",
      "Train Epoch: 1 [40000/60000 (67%)]\t1.643126\n",
      "Train Epoch: 1 [42000/60000 (70%)]\t1.593478\n",
      "Train Epoch: 1 [44000/60000 (73%)]\t1.669686\n",
      "Train Epoch: 1 [46000/60000 (77%)]\t1.594764\n",
      "Train Epoch: 1 [48000/60000 (80%)]\t1.623071\n",
      "Train Epoch: 1 [50000/60000 (83%)]\t1.590119\n",
      "Train Epoch: 1 [52000/60000 (87%)]\t1.597229\n",
      "Train Epoch: 1 [54000/60000 (90%)]\t1.635284\n",
      "Train Epoch: 1 [56000/60000 (93%)]\t1.633083\n",
      "Train Epoch: 1 [58000/60000 (97%)]\t1.537470\n",
      "\n",
      "Test set: Average loss: 0.0152, Accuracy 9393/10000 (94%\n",
      ")\n",
      "Train Epoch: 2 [0/60000 (0%)]\t1.596272\n",
      "Train Epoch: 2 [2000/60000 (3%)]\t1.594126\n",
      "Train Epoch: 2 [4000/60000 (7%)]\t1.625820\n",
      "Train Epoch: 2 [6000/60000 (10%)]\t1.580881\n",
      "Train Epoch: 2 [8000/60000 (13%)]\t1.590001\n",
      "Train Epoch: 2 [10000/60000 (17%)]\t1.610906\n",
      "Train Epoch: 2 [12000/60000 (20%)]\t1.576813\n",
      "Train Epoch: 2 [14000/60000 (23%)]\t1.582288\n",
      "Train Epoch: 2 [16000/60000 (27%)]\t1.585853\n",
      "Train Epoch: 2 [18000/60000 (30%)]\t1.544631\n",
      "Train Epoch: 2 [20000/60000 (33%)]\t1.629060\n",
      "Train Epoch: 2 [22000/60000 (37%)]\t1.562148\n",
      "Train Epoch: 2 [24000/60000 (40%)]\t1.589781\n",
      "Train Epoch: 2 [26000/60000 (43%)]\t1.525201\n",
      "Train Epoch: 2 [28000/60000 (47%)]\t1.624188\n",
      "Train Epoch: 2 [30000/60000 (50%)]\t1.555400\n",
      "Train Epoch: 2 [32000/60000 (53%)]\t1.570752\n",
      "Train Epoch: 2 [34000/60000 (57%)]\t1.576471\n",
      "Train Epoch: 2 [36000/60000 (60%)]\t1.582021\n",
      "Train Epoch: 2 [38000/60000 (63%)]\t1.548169\n",
      "Train Epoch: 2 [40000/60000 (67%)]\t1.590726\n",
      "Train Epoch: 2 [42000/60000 (70%)]\t1.585348\n",
      "Train Epoch: 2 [44000/60000 (73%)]\t1.570610\n",
      "Train Epoch: 2 [46000/60000 (77%)]\t1.556815\n",
      "Train Epoch: 2 [48000/60000 (80%)]\t1.577072\n",
      "Train Epoch: 2 [50000/60000 (83%)]\t1.588933\n",
      "Train Epoch: 2 [52000/60000 (87%)]\t1.555392\n",
      "Train Epoch: 2 [54000/60000 (90%)]\t1.538118\n",
      "Train Epoch: 2 [56000/60000 (93%)]\t1.507535\n",
      "Train Epoch: 2 [58000/60000 (97%)]\t1.557388\n",
      "\n",
      "Test set: Average loss: 0.0150, Accuracy 9563/10000 (96%\n",
      ")\n",
      "Train Epoch: 3 [0/60000 (0%)]\t1.560155\n",
      "Train Epoch: 3 [2000/60000 (3%)]\t1.571547\n",
      "Train Epoch: 3 [4000/60000 (7%)]\t1.541391\n",
      "Train Epoch: 3 [6000/60000 (10%)]\t1.623688\n",
      "Train Epoch: 3 [8000/60000 (13%)]\t1.572823\n",
      "Train Epoch: 3 [10000/60000 (17%)]\t1.574613\n",
      "Train Epoch: 3 [12000/60000 (20%)]\t1.535255\n",
      "Train Epoch: 3 [14000/60000 (23%)]\t1.596189\n",
      "Train Epoch: 3 [16000/60000 (27%)]\t1.595160\n",
      "Train Epoch: 3 [18000/60000 (30%)]\t1.529313\n",
      "Train Epoch: 3 [20000/60000 (33%)]\t1.521114\n",
      "Train Epoch: 3 [22000/60000 (37%)]\t1.522272\n",
      "Train Epoch: 3 [24000/60000 (40%)]\t1.603676\n",
      "Train Epoch: 3 [26000/60000 (43%)]\t1.530294\n",
      "Train Epoch: 3 [28000/60000 (47%)]\t1.548475\n",
      "Train Epoch: 3 [30000/60000 (50%)]\t1.545511\n",
      "Train Epoch: 3 [32000/60000 (53%)]\t1.542452\n",
      "Train Epoch: 3 [34000/60000 (57%)]\t1.542549\n",
      "Train Epoch: 3 [36000/60000 (60%)]\t1.551288\n",
      "Train Epoch: 3 [38000/60000 (63%)]\t1.630812\n",
      "Train Epoch: 3 [40000/60000 (67%)]\t1.519946\n",
      "Train Epoch: 3 [42000/60000 (70%)]\t1.515211\n",
      "Train Epoch: 3 [44000/60000 (73%)]\t1.557116\n",
      "Train Epoch: 3 [46000/60000 (77%)]\t1.525055\n",
      "Train Epoch: 3 [48000/60000 (80%)]\t1.517071\n",
      "Train Epoch: 3 [50000/60000 (83%)]\t1.559558\n",
      "Train Epoch: 3 [52000/60000 (87%)]\t1.538589\n",
      "Train Epoch: 3 [54000/60000 (90%)]\t1.541877\n",
      "Train Epoch: 3 [56000/60000 (93%)]\t1.597164\n",
      "Train Epoch: 3 [58000/60000 (97%)]\t1.526408\n",
      "\n",
      "Test set: Average loss: 0.0150, Accuracy 9638/10000 (96%\n",
      ")\n",
      "Train Epoch: 4 [0/60000 (0%)]\t1.547840\n",
      "Train Epoch: 4 [2000/60000 (3%)]\t1.550132\n",
      "Train Epoch: 4 [4000/60000 (7%)]\t1.574656\n",
      "Train Epoch: 4 [6000/60000 (10%)]\t1.550510\n",
      "Train Epoch: 4 [8000/60000 (13%)]\t1.563969\n",
      "Train Epoch: 4 [10000/60000 (17%)]\t1.527322\n",
      "Train Epoch: 4 [12000/60000 (20%)]\t1.527301\n",
      "Train Epoch: 4 [14000/60000 (23%)]\t1.570793\n",
      "Train Epoch: 4 [16000/60000 (27%)]\t1.546841\n",
      "Train Epoch: 4 [18000/60000 (30%)]\t1.533827\n",
      "Train Epoch: 4 [20000/60000 (33%)]\t1.585041\n",
      "Train Epoch: 4 [22000/60000 (37%)]\t1.534766\n",
      "Train Epoch: 4 [24000/60000 (40%)]\t1.526992\n",
      "Train Epoch: 4 [26000/60000 (43%)]\t1.559532\n",
      "Train Epoch: 4 [28000/60000 (47%)]\t1.527430\n",
      "Train Epoch: 4 [30000/60000 (50%)]\t1.601767\n",
      "Train Epoch: 4 [32000/60000 (53%)]\t1.533230\n",
      "Train Epoch: 4 [34000/60000 (57%)]\t1.566031\n",
      "Train Epoch: 4 [36000/60000 (60%)]\t1.542547\n",
      "Train Epoch: 4 [38000/60000 (63%)]\t1.553493\n",
      "Train Epoch: 4 [40000/60000 (67%)]\t1.532766\n",
      "Train Epoch: 4 [42000/60000 (70%)]\t1.558352\n",
      "Train Epoch: 4 [44000/60000 (73%)]\t1.516441\n",
      "Train Epoch: 4 [46000/60000 (77%)]\t1.534227\n",
      "Train Epoch: 4 [48000/60000 (80%)]\t1.578467\n",
      "Train Epoch: 4 [50000/60000 (83%)]\t1.543183\n",
      "Train Epoch: 4 [52000/60000 (87%)]\t1.566846\n",
      "Train Epoch: 4 [54000/60000 (90%)]\t1.536520\n",
      "Train Epoch: 4 [56000/60000 (93%)]\t1.540352\n",
      "Train Epoch: 4 [58000/60000 (97%)]\t1.541439\n",
      "\n",
      "Test set: Average loss: 0.0149, Accuracy 9676/10000 (97%\n",
      ")\n",
      "Train Epoch: 5 [0/60000 (0%)]\t1.521403\n",
      "Train Epoch: 5 [2000/60000 (3%)]\t1.512169\n",
      "Train Epoch: 5 [4000/60000 (7%)]\t1.556658\n",
      "Train Epoch: 5 [6000/60000 (10%)]\t1.601484\n",
      "Train Epoch: 5 [8000/60000 (13%)]\t1.594134\n",
      "Train Epoch: 5 [10000/60000 (17%)]\t1.474198\n",
      "Train Epoch: 5 [12000/60000 (20%)]\t1.515950\n",
      "Train Epoch: 5 [14000/60000 (23%)]\t1.557201\n",
      "Train Epoch: 5 [16000/60000 (27%)]\t1.558377\n",
      "Train Epoch: 5 [18000/60000 (30%)]\t1.503391\n",
      "Train Epoch: 5 [20000/60000 (33%)]\t1.541198\n",
      "Train Epoch: 5 [22000/60000 (37%)]\t1.549998\n",
      "Train Epoch: 5 [24000/60000 (40%)]\t1.556689\n",
      "Train Epoch: 5 [26000/60000 (43%)]\t1.541248\n",
      "Train Epoch: 5 [28000/60000 (47%)]\t1.521601\n",
      "Train Epoch: 5 [30000/60000 (50%)]\t1.545833\n",
      "Train Epoch: 5 [32000/60000 (53%)]\t1.525129\n",
      "Train Epoch: 5 [34000/60000 (57%)]\t1.538911\n",
      "Train Epoch: 5 [36000/60000 (60%)]\t1.528736\n",
      "Train Epoch: 5 [38000/60000 (63%)]\t1.534920\n",
      "Train Epoch: 5 [40000/60000 (67%)]\t1.530929\n",
      "Train Epoch: 5 [42000/60000 (70%)]\t1.518982\n",
      "Train Epoch: 5 [44000/60000 (73%)]\t1.570993\n",
      "Train Epoch: 5 [46000/60000 (77%)]\t1.557876\n",
      "Train Epoch: 5 [48000/60000 (80%)]\t1.579271\n",
      "Train Epoch: 5 [50000/60000 (83%)]\t1.582709\n",
      "Train Epoch: 5 [52000/60000 (87%)]\t1.499851\n",
      "Train Epoch: 5 [54000/60000 (90%)]\t1.524881\n",
      "Train Epoch: 5 [56000/60000 (93%)]\t1.553976\n",
      "Train Epoch: 5 [58000/60000 (97%)]\t1.548521\n",
      "\n",
      "Test set: Average loss: 0.0149, Accuracy 9684/10000 (97%\n",
      ")\n",
      "Train Epoch: 6 [0/60000 (0%)]\t1.524791\n",
      "Train Epoch: 6 [2000/60000 (3%)]\t1.554922\n",
      "Train Epoch: 6 [4000/60000 (7%)]\t1.528267\n",
      "Train Epoch: 6 [6000/60000 (10%)]\t1.513528\n",
      "Train Epoch: 6 [8000/60000 (13%)]\t1.574393\n",
      "Train Epoch: 6 [10000/60000 (17%)]\t1.580938\n",
      "Train Epoch: 6 [12000/60000 (20%)]\t1.510771\n",
      "Train Epoch: 6 [14000/60000 (23%)]\t1.518916\n",
      "Train Epoch: 6 [16000/60000 (27%)]\t1.568961\n",
      "Train Epoch: 6 [18000/60000 (30%)]\t1.525157\n",
      "Train Epoch: 6 [20000/60000 (33%)]\t1.537018\n",
      "Train Epoch: 6 [22000/60000 (37%)]\t1.529721\n",
      "Train Epoch: 6 [24000/60000 (40%)]\t1.533764\n",
      "Train Epoch: 6 [26000/60000 (43%)]\t1.536785\n",
      "Train Epoch: 6 [28000/60000 (47%)]\t1.525264\n",
      "Train Epoch: 6 [30000/60000 (50%)]\t1.548397\n",
      "Train Epoch: 6 [32000/60000 (53%)]\t1.543741\n",
      "Train Epoch: 6 [34000/60000 (57%)]\t1.525395\n",
      "Train Epoch: 6 [36000/60000 (60%)]\t1.538421\n",
      "Train Epoch: 6 [38000/60000 (63%)]\t1.558623\n",
      "Train Epoch: 6 [40000/60000 (67%)]\t1.523199\n",
      "Train Epoch: 6 [42000/60000 (70%)]\t1.539481\n",
      "Train Epoch: 6 [44000/60000 (73%)]\t1.573436\n",
      "Train Epoch: 6 [46000/60000 (77%)]\t1.549769\n",
      "Train Epoch: 6 [48000/60000 (80%)]\t1.548415\n",
      "Train Epoch: 6 [50000/60000 (83%)]\t1.480223\n",
      "Train Epoch: 6 [52000/60000 (87%)]\t1.517385\n",
      "Train Epoch: 6 [54000/60000 (90%)]\t1.537678\n",
      "Train Epoch: 6 [56000/60000 (93%)]\t1.567230\n",
      "Train Epoch: 6 [58000/60000 (97%)]\t1.497686\n",
      "\n",
      "Test set: Average loss: 0.0149, Accuracy 9696/10000 (97%\n",
      ")\n",
      "Train Epoch: 7 [0/60000 (0%)]\t1.577522\n",
      "Train Epoch: 7 [2000/60000 (3%)]\t1.533026\n",
      "Train Epoch: 7 [4000/60000 (7%)]\t1.509043\n",
      "Train Epoch: 7 [6000/60000 (10%)]\t1.541496\n",
      "Train Epoch: 7 [8000/60000 (13%)]\t1.512705\n",
      "Train Epoch: 7 [10000/60000 (17%)]\t1.520876\n",
      "Train Epoch: 7 [12000/60000 (20%)]\t1.499496\n",
      "Train Epoch: 7 [14000/60000 (23%)]\t1.548487\n",
      "Train Epoch: 7 [16000/60000 (27%)]\t1.518418\n",
      "Train Epoch: 7 [18000/60000 (30%)]\t1.554446\n",
      "Train Epoch: 7 [20000/60000 (33%)]\t1.548022\n",
      "Train Epoch: 7 [22000/60000 (37%)]\t1.554482\n",
      "Train Epoch: 7 [24000/60000 (40%)]\t1.517701\n",
      "Train Epoch: 7 [26000/60000 (43%)]\t1.553404\n",
      "Train Epoch: 7 [28000/60000 (47%)]\t1.533505\n",
      "Train Epoch: 7 [30000/60000 (50%)]\t1.534620\n",
      "Train Epoch: 7 [32000/60000 (53%)]\t1.572554\n",
      "Train Epoch: 7 [34000/60000 (57%)]\t1.499627\n",
      "Train Epoch: 7 [36000/60000 (60%)]\t1.523548\n",
      "Train Epoch: 7 [38000/60000 (63%)]\t1.546528\n",
      "Train Epoch: 7 [40000/60000 (67%)]\t1.502536\n",
      "Train Epoch: 7 [42000/60000 (70%)]\t1.526697\n",
      "Train Epoch: 7 [44000/60000 (73%)]\t1.517067\n",
      "Train Epoch: 7 [46000/60000 (77%)]\t1.549828\n",
      "Train Epoch: 7 [48000/60000 (80%)]\t1.532206\n",
      "Train Epoch: 7 [50000/60000 (83%)]\t1.548018\n",
      "Train Epoch: 7 [52000/60000 (87%)]\t1.504130\n",
      "Train Epoch: 7 [54000/60000 (90%)]\t1.576953\n",
      "Train Epoch: 7 [56000/60000 (93%)]\t1.514788\n",
      "Train Epoch: 7 [58000/60000 (97%)]\t1.553017\n",
      "\n",
      "Test set: Average loss: 0.0149, Accuracy 9720/10000 (97%\n",
      ")\n",
      "Train Epoch: 8 [0/60000 (0%)]\t1.536742\n",
      "Train Epoch: 8 [2000/60000 (3%)]\t1.538537\n",
      "Train Epoch: 8 [4000/60000 (7%)]\t1.529033\n",
      "Train Epoch: 8 [6000/60000 (10%)]\t1.515501\n",
      "Train Epoch: 8 [8000/60000 (13%)]\t1.495351\n",
      "Train Epoch: 8 [10000/60000 (17%)]\t1.563882\n",
      "Train Epoch: 8 [12000/60000 (20%)]\t1.520933\n",
      "Train Epoch: 8 [14000/60000 (23%)]\t1.505655\n",
      "Train Epoch: 8 [16000/60000 (27%)]\t1.507774\n",
      "Train Epoch: 8 [18000/60000 (30%)]\t1.570536\n",
      "Train Epoch: 8 [20000/60000 (33%)]\t1.528800\n",
      "Train Epoch: 8 [22000/60000 (37%)]\t1.547199\n",
      "Train Epoch: 8 [24000/60000 (40%)]\t1.538892\n",
      "Train Epoch: 8 [26000/60000 (43%)]\t1.536549\n",
      "Train Epoch: 8 [28000/60000 (47%)]\t1.530021\n",
      "Train Epoch: 8 [30000/60000 (50%)]\t1.531491\n",
      "Train Epoch: 8 [32000/60000 (53%)]\t1.508882\n",
      "Train Epoch: 8 [34000/60000 (57%)]\t1.556401\n",
      "Train Epoch: 8 [36000/60000 (60%)]\t1.568897\n",
      "Train Epoch: 8 [38000/60000 (63%)]\t1.467123\n",
      "Train Epoch: 8 [40000/60000 (67%)]\t1.552925\n",
      "Train Epoch: 8 [42000/60000 (70%)]\t1.498152\n",
      "Train Epoch: 8 [44000/60000 (73%)]\t1.553274\n",
      "Train Epoch: 8 [46000/60000 (77%)]\t1.552162\n",
      "Train Epoch: 8 [48000/60000 (80%)]\t1.565173\n",
      "Train Epoch: 8 [50000/60000 (83%)]\t1.502689\n",
      "Train Epoch: 8 [52000/60000 (87%)]\t1.556470\n",
      "Train Epoch: 8 [54000/60000 (90%)]\t1.536057\n",
      "Train Epoch: 8 [56000/60000 (93%)]\t1.536830\n",
      "Train Epoch: 8 [58000/60000 (97%)]\t1.525601\n",
      "\n",
      "Test set: Average loss: 0.0149, Accuracy 9752/10000 (98%\n",
      ")\n",
      "Train Epoch: 9 [0/60000 (0%)]\t1.553866\n",
      "Train Epoch: 9 [2000/60000 (3%)]\t1.532088\n",
      "Train Epoch: 9 [4000/60000 (7%)]\t1.516553\n",
      "Train Epoch: 9 [6000/60000 (10%)]\t1.508568\n",
      "Train Epoch: 9 [8000/60000 (13%)]\t1.504839\n",
      "Train Epoch: 9 [10000/60000 (17%)]\t1.481011\n",
      "Train Epoch: 9 [12000/60000 (20%)]\t1.524606\n",
      "Train Epoch: 9 [14000/60000 (23%)]\t1.555800\n",
      "Train Epoch: 9 [16000/60000 (27%)]\t1.531610\n",
      "Train Epoch: 9 [18000/60000 (30%)]\t1.516548\n",
      "Train Epoch: 9 [20000/60000 (33%)]\t1.541521\n",
      "Train Epoch: 9 [22000/60000 (37%)]\t1.537825\n",
      "Train Epoch: 9 [24000/60000 (40%)]\t1.513167\n",
      "Train Epoch: 9 [26000/60000 (43%)]\t1.532241\n",
      "Train Epoch: 9 [28000/60000 (47%)]\t1.582985\n",
      "Train Epoch: 9 [30000/60000 (50%)]\t1.546176\n",
      "Train Epoch: 9 [32000/60000 (53%)]\t1.550667\n",
      "Train Epoch: 9 [34000/60000 (57%)]\t1.540352\n",
      "Train Epoch: 9 [36000/60000 (60%)]\t1.590538\n",
      "Train Epoch: 9 [38000/60000 (63%)]\t1.545263\n",
      "Train Epoch: 9 [40000/60000 (67%)]\t1.534338\n",
      "Train Epoch: 9 [42000/60000 (70%)]\t1.530426\n",
      "Train Epoch: 9 [44000/60000 (73%)]\t1.557644\n",
      "Train Epoch: 9 [46000/60000 (77%)]\t1.525895\n",
      "Train Epoch: 9 [48000/60000 (80%)]\t1.569629\n",
      "Train Epoch: 9 [50000/60000 (83%)]\t1.504021\n",
      "Train Epoch: 9 [52000/60000 (87%)]\t1.510111\n",
      "Train Epoch: 9 [54000/60000 (90%)]\t1.518437\n",
      "Train Epoch: 9 [56000/60000 (93%)]\t1.519821\n",
      "Train Epoch: 9 [58000/60000 (97%)]\t1.485026\n",
      "\n",
      "Test set: Average loss: 0.0149, Accuracy 9755/10000 (98%\n",
      ")\n",
      "Train Epoch: 10 [0/60000 (0%)]\t1.521387\n",
      "Train Epoch: 10 [2000/60000 (3%)]\t1.492852\n",
      "Train Epoch: 10 [4000/60000 (7%)]\t1.535344\n",
      "Train Epoch: 10 [6000/60000 (10%)]\t1.467395\n",
      "Train Epoch: 10 [8000/60000 (13%)]\t1.509019\n",
      "Train Epoch: 10 [10000/60000 (17%)]\t1.501145\n",
      "Train Epoch: 10 [12000/60000 (20%)]\t1.521959\n",
      "Train Epoch: 10 [14000/60000 (23%)]\t1.517542\n",
      "Train Epoch: 10 [16000/60000 (27%)]\t1.533357\n",
      "Train Epoch: 10 [18000/60000 (30%)]\t1.501581\n",
      "Train Epoch: 10 [20000/60000 (33%)]\t1.520848\n",
      "Train Epoch: 10 [22000/60000 (37%)]\t1.495112\n",
      "Train Epoch: 10 [24000/60000 (40%)]\t1.532569\n",
      "Train Epoch: 10 [26000/60000 (43%)]\t1.531851\n",
      "Train Epoch: 10 [28000/60000 (47%)]\t1.533330\n",
      "Train Epoch: 10 [30000/60000 (50%)]\t1.520068\n",
      "Train Epoch: 10 [32000/60000 (53%)]\t1.557784\n",
      "Train Epoch: 10 [34000/60000 (57%)]\t1.564623\n",
      "Train Epoch: 10 [36000/60000 (60%)]\t1.502580\n",
      "Train Epoch: 10 [38000/60000 (63%)]\t1.522811\n",
      "Train Epoch: 10 [40000/60000 (67%)]\t1.557673\n",
      "Train Epoch: 10 [42000/60000 (70%)]\t1.562447\n",
      "Train Epoch: 10 [44000/60000 (73%)]\t1.548217\n",
      "Train Epoch: 10 [46000/60000 (77%)]\t1.495211\n",
      "Train Epoch: 10 [48000/60000 (80%)]\t1.508364\n",
      "Train Epoch: 10 [50000/60000 (83%)]\t1.552608\n",
      "Train Epoch: 10 [52000/60000 (87%)]\t1.533212\n",
      "Train Epoch: 10 [54000/60000 (90%)]\t1.521169\n",
      "Train Epoch: 10 [56000/60000 (93%)]\t1.500115\n",
      "Train Epoch: 10 [58000/60000 (97%)]\t1.527318\n",
      "\n",
      "Test set: Average loss: 0.0149, Accuracy 9754/10000 (98%\n",
      ")\n"
     ]
    }
   ],
   "source": [
    "# range(1,11) is 10 epoch\n",
    "for epoch in range(1, 11):\n",
    "    train(epoch)\n",
    "    test()"
   ]
  },
  {
   "cell_type": "code",
   "execution_count": 17,
   "metadata": {},
   "outputs": [
    {
     "data": {
      "text/plain": [
       "device(type='cuda')"
      ]
     },
     "execution_count": 17,
     "metadata": {},
     "output_type": "execute_result"
    }
   ],
   "source": [
    "device"
   ]
  },
  {
   "cell_type": "code",
   "execution_count": 20,
   "metadata": {},
   "outputs": [
    {
     "name": "stdout",
     "output_type": "stream",
     "text": [
      "Prediction: 9\n"
     ]
    },
    {
     "name": "stderr",
     "output_type": "stream",
     "text": [
      "C:\\Users\\User\\AppData\\Local\\Temp\\ipykernel_11704\\612138161.py:25: UserWarning: Implicit dimension choice for softmax has been deprecated. Change the call to include dim=X as an argument.\n",
      "  return F.softmax(x)\n"
     ]
    },
    {
     "data": {
      "image/png": "[encoded data removed]",
      "text/plain": [
       "<Figure size 640x480 with 1 Axes>"
      ]
     },
     "metadata": {},
     "output_type": "display_data"
    }
   ],
   "source": [
    "import matplotlib.pyplot as plt\n",
    "import random\n",
    "\n",
    "rd = random.randint(0,9)\n",
    "\n",
    "model.eval()\n",
    "\n",
    "data, target = test_data[rd]\n",
    "\n",
    "data = data.unsqueeze(0).to(device)\n",
    "\n",
    "output = model(data)\n",
    "\n",
    "prediction = output.argmax(dim=1, keepdim=True).item()\n",
    "\n",
    "print(f'Prediction: {prediction}')\n",
    "\n",
    "image = data.squeeze(0).squeeze(0).cpu().numpy()\n",
    "\n",
    "plt.imshow(image, cmap='gray')\n",
    "plt.show()\n"
   ]
  }
 ],
 "metadata": {
  "kernelspec": {
   "display_name": "ML",
   "language": "python",
   "name": "python3"
  },
  "language_info": {
   "codemirror_mode": {
    "name": "ipython",
    "version": 3
   },
   "file_extension": ".py",
   "mimetype": "text/x-python",
   "name": "python",
   "nbconvert_exporter": "python",
   "pygments_lexer": "ipython3",
   "version": "3.10.16"
  }
 },
 "nbformat": 4,
 "nbformat_minor": 2
}
